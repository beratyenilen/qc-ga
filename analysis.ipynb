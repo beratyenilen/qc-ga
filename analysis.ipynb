{
 "cells": [
  {
   "cell_type": "code",
   "execution_count": null,
   "metadata": {},
   "outputs": [],
   "source": [
    "import pickle\n",
    "from tools import *\n",
    "from candidate import Candidate\n",
    "from numpy import *\n",
    "from matplotlib import pyplot as plt\n",
    "import pandas as pd\n",
    "from deap import *\n",
    "from deap.tools.emo import sortNondominated\n",
    "from qiskit import *\n",
    "from qiskit.quantum_info import state_fidelity\n",
    "#from main import LRSP_circs\n",
    "\n",
    "fitnessWeights = (-1.0, -0.5)\n",
    "creator.create(\"FitnessMin\", base.Fitness, weights=fitnessWeights)\n",
    "creator.create(\"Individual\", Candidate, fitness=creator.FitnessMin)\n",
    "\n",
    "def load_files_by_name(basedir):\n",
    "    loaded = {}\n",
    "    for name in  next(os.walk(basedir))[2]:\n",
    "        with open(os.path.join(basedir, name), 'rb') as file:\n",
    "            loaded[name] = pickle.load(file)\n",
    "    return loaded\n",
    "basedir = 'states/5_qubits'\n",
    "states = load_files_by_name(basedir)"
   ]
  },
  {
   "cell_type": "code",
   "execution_count": null,
   "metadata": {},
   "outputs": [],
   "source": [
    "states_with_pop = {}\n",
    "for name, state in states.items():\n",
    "    try:\n",
    "        with open(f'performance_data/5QB/400POP/500-30000GEN-{name}.pop', 'rb') as f:\n",
    "            states_with_pop[name] = {'state': state, 'pop': pickle.load(f)}\n",
    "    except:\n",
    "        pass"
   ]
  },
  {
   "cell_type": "code",
   "execution_count": null,
   "metadata": {},
   "outputs": [],
   "source": [
    "'''print(1-pop[19].fitness.values[0])\n",
    "qc = pop[19].toQiskitCircuit()\n",
    "display(qc.draw(output='mpl'))\n",
    "\n",
    "\n",
    "\n",
    "fit = 1-pop[1].fitness.values[0]\n",
    "\n",
    "# backend = AerSimulator(method='statevector')\n",
    "backend = Aer.get_backend('statevector_simulator')\n",
    "result_state1 = backend.run(qc).result().get_statevector()\n",
    "print(state_fidelity(state_vector, result_state1))'''"
   ]
  },
  {
   "cell_type": "code",
   "execution_count": null,
   "metadata": {},
   "outputs": [],
   "source": [
    "from threading import Thread\n",
    "\n",
    "def run(data):\n",
    "    for name, state in data:\n",
    "        circs = LRSP_circs(state, initialize_toolbox(state))\n",
    "        ranks = sortNondominated(circs, len(circs), first_front_only=True)\n",
    "        front = ranks[0]\n",
    "        # states_with_pop['lrsp_front'] = front\n",
    "        f = open('5QB-LRSP-fronts/'+name, 'wb')\n",
    "        pickle.dump(front, f)\n",
    "        f.close()\n",
    "        print(f'finished {name}')\n",
    "\n",
    "treds = []\n",
    "for i in range(8):\n",
    "    chunk = list(states.items())[i::8]\n",
    "    print(len(chunk))\n",
    "    t = Thread(target=run, args=[chunk])\n",
    "    t.start()\n",
    "    treds.append(t)\n",
    "\n",
    "for t in treds:\n",
    "    t.join()"
   ]
  },
  {
   "cell_type": "code",
   "execution_count": null,
   "metadata": {},
   "outputs": [],
   "source": [
    "def uniqBy(l, f):\n",
    "    uniq_so_far = []\n",
    "    uniq_so_far_mapped = []\n",
    "    for c in l:\n",
    "        d = f(c)\n",
    "        if not d in uniq_so_far_mapped:\n",
    "            uniq_so_far_mapped.append(d)\n",
    "            uniq_so_far.append(c)\n",
    "    return uniq_so_far\n",
    "\n",
    "lrsp_circs = load_files_by_name('5QB-LRSP-fronts')\n",
    "\n",
    "lrsp_circs_uniq = {name: uniqBy(circs, lambda c: c.circuit) for name, circs in lrsp_circs.items()}\n",
    "\n"
   ]
  },
  {
   "cell_type": "code",
   "execution_count": 194,
   "metadata": {},
   "outputs": [
    {
     "name": "stdout",
     "output_type": "stream",
     "text": [
      "finished 5QB_state100\n"
     ]
    }
   ],
   "source": [
    "from qiskit.providers.aer import QasmSimulator\n",
    "\n",
    "backend = AerSimulator(method='density_matrix', noise_model=noise_model)\n",
    "backend = Aer.get_backend('qasm_simulator')\n",
    "backend = QasmSimulator(method='density_matrix',noise_model=noise_model)\n",
    "\n",
    "def totalCNOTs(circ):\n",
    "    cnots = 0\n",
    "    for gate in circ:\n",
    "        if (gate[1]==CNOT): cnots+=1\n",
    "    return cnots\n",
    "\n",
    "assert states.keys() == lrsp_circs_uniq.keys()\n",
    "\n",
    "def noisy_simulation_density_matrix(circ):\n",
    "    circ.save_density_matrix(label='density_matrix')\n",
    "    #result = backend.run(circ).result()\n",
    "    result = execute(circ, backend,\n",
    "                    coupling_map=connectivity,\n",
    "                    noise_model=noise_model).result()\n",
    "    return result.data()['density_matrix']\n",
    "\n",
    "for name, obj in states_with_pop.items():\n",
    "    data = []\n",
    "    pop = sortNondominated(obj['pop'], len(obj['pop']), first_front_only=True)[0]\n",
    "    pop = uniqBy(pop, lambda c: c.circuit)\n",
    "    for ind in pop:\n",
    "        ind_data = {'noisy_fids': []}\n",
    "        permutation = ind.getPermutationMatrix()\n",
    "        permutation = np.linalg.inv(permutation)\n",
    "        cnots = totalCNOTs(ind.circuit)\n",
    "        for _ in range(100): # find the best circuit from noisy results\n",
    "            circ = ind.toQiskitCircuit()\n",
    "            circ.measure_all()\n",
    "            circ = transpile(circ,fake_machine,optimization_level=0)\n",
    "            permutation2 = getPermutation(circ)\n",
    "            perm_circ = Permutation(5, permutation2) # Creating a circuit for qubit mapping\n",
    "            perm_unitary = Operator(perm_circ) # Matrix for the previous circuit\n",
    "            density_matrix_noisy = noisy_simulation_density_matrix(circ)\n",
    "            fid = state_fidelity(perm_unitary @ permutation @ state._data, density_matrix_noisy)\n",
    "            ind_data['noisy_fids'].append(fid)\n",
    "        ind_data['cnots'] = cnots\n",
    "        data.append(ind_data)\n",
    "    \n",
    "    f = open('5QB-GA-nondominated-noisy-fids/'+name, 'wb')\n",
    "    pickle.dump(data, f)\n",
    "    f.close()\n",
    "    print(f'finished {name}')  "
   ]
  },
  {
   "cell_type": "code",
   "execution_count": 195,
   "metadata": {},
   "outputs": [
    {
     "name": "stdout",
     "output_type": "stream",
     "text": [
      "[{'noisy_fids': [0.4879411650189644], 'cnots': 5}, {'noisy_fids': [0.4675001118431573], 'cnots': 20}, {'noisy_fids': [0.3027833863417313], 'cnots': 0}, {'noisy_fids': [0.3027833863417313], 'cnots': 0}, {'noisy_fids': [0.46221755212716287], 'cnots': 16}, {'noisy_fids': [0.4842014247242685], 'cnots': 8}, {'noisy_fids': [0.5594685243114866], 'cnots': 11}, {'noisy_fids': [0.5479258103652624], 'cnots': 9}, {'noisy_fids': [0.531214231543304], 'cnots': 4}, {'noisy_fids': [0.470878742558259], 'cnots': 30}, {'noisy_fids': [0.4892234888444488], 'cnots': 13}, {'noisy_fids': [0.4463560107831207], 'cnots': 2}, {'noisy_fids': [0.34352755137734997], 'cnots': 0}, {'noisy_fids': [0.5006035296092037], 'cnots': 23}, {'noisy_fids': [0.4894745788290195], 'cnots': 22}, {'noisy_fids': [0.378748966331091], 'cnots': 24}, {'noisy_fids': [0.46207505219101175], 'cnots': 5}, {'noisy_fids': [0.4691348777400126], 'cnots': 14}, {'noisy_fids': [0.5190655195882794], 'cnots': 26}, {'noisy_fids': [0.13619213721596485], 'cnots': 0}, {'noisy_fids': [0.515454895212192], 'cnots': 2}, {'noisy_fids': [0.4855162754316817], 'cnots': 8}, {'noisy_fids': [0.36398862160962303], 'cnots': 1}, {'noisy_fids': [0.47281368893033887], 'cnots': 26}, {'noisy_fids': [0.4774971951822867], 'cnots': 13}, {'noisy_fids': [0.41249647919471144], 'cnots': 14}, {'noisy_fids': [0.6284667345974584], 'cnots': 9}, {'noisy_fids': [0.473277599946506], 'cnots': 25}, {'noisy_fids': [0.5207760120744483], 'cnots': 3}, {'noisy_fids': [0.48464119502725433], 'cnots': 2}, {'noisy_fids': [0.4923989229653548], 'cnots': 5}, {'noisy_fids': [0.44550306094452274], 'cnots': 7}, {'noisy_fids': [0.37348877114193896], 'cnots': 22}, {'noisy_fids': [0.46993355397638753], 'cnots': 22}, {'noisy_fids': [0.4267756844702201], 'cnots': 22}, {'noisy_fids': [0.5162996158559721], 'cnots': 14}, {'noisy_fids': [0.44635802894691906], 'cnots': 2}, {'noisy_fids': [0.4326254624899004], 'cnots': 25}, {'noisy_fids': [0.4112932532610475], 'cnots': 1}, {'noisy_fids': [0.5349133874994831], 'cnots': 24}, {'noisy_fids': [0.0036442397948945725], 'cnots': 0}, {'noisy_fids': [0.4644306452511379], 'cnots': 5}, {'noisy_fids': [0.06699395361650444], 'cnots': 0}, {'noisy_fids': [0.0669946852716539], 'cnots': 0}, {'noisy_fids': [0.08374635055901075], 'cnots': 0}, {'noisy_fids': [0.4867153981622509], 'cnots': 25}, {'noisy_fids': [0.3027833863417313], 'cnots': 0}, {'noisy_fids': [0.48954897260454433], 'cnots': 30}]\n"
     ]
    }
   ],
   "source": [
    "with open('5QB-GA-nondominated-noisy-fids/'+'5QB_state100', 'rb') as f:\n",
    "    print(pickle.load(f))\n"
   ]
  },
  {
   "cell_type": "code",
   "execution_count": null,
   "metadata": {},
   "outputs": [],
   "source": [
    "for name, state in states.items():\n",
    "    circs = lrsp_circs_uniq[name]\n",
    "\n",
    "    data = []\n",
    "    for ind in circs:\n",
    "        ind_data = {'circ': ind, 'noisy_fids': []}\n",
    "        for _ in range(100): # find the best circuit from noisy results\n",
    "            permutation = ind.getPermutationMatrix()\n",
    "            permutation = np.linalg.inv(permutation)\n",
    "            cnots = totalCNOTs(ind.circuit)\n",
    "            circ = ind.toQiskitCircuit()\n",
    "            circ.measure_all()\n",
    "            circ = transpile(circ,fake_machine,optimization_level=0)\n",
    "            permutation2 = getPermutation(circ)\n",
    "            perm_circ = Permutation(5, permutation2) # Creating a circuit for qubit mapping\n",
    "            perm_unitary = Operator(perm_circ) # Matrix for the previous circuit\n",
    "            density_matrix_noisy = noisy_simulation_density_matrix(circ)\n",
    "            fid = state_fidelity(perm_unitary @ permutation @ state._data, density_matrix_noisy)\n",
    "            ind_data['noisy_fids'].append(fid)\n",
    "        data.append(ind_data)\n",
    "    \n",
    "    #f = open('5QB-LRSP-noisy-fids/'+name, 'wb')\n",
    "    #pickle.dump(data, f)\n",
    "    #f.close()\n",
    "    print(f'finished {name}')\n"
   ]
  },
  {
   "cell_type": "code",
   "execution_count": null,
   "metadata": {},
   "outputs": [],
   "source": [
    "lrsp_noisy_fids = load_files_by_name('5QB-LRSP-noisy-fids')"
   ]
  },
  {
   "cell_type": "code",
   "execution_count": null,
   "metadata": {},
   "outputs": [],
   "source": [
    "# print(lrsp_noisy_fids['5QB_state100'])\n",
    "\n",
    "for name, results in list(lrsp_noisy_fids.items())[0:10]:\n",
    "    data = []\n",
    "    for obj in results:\n",
    "        for noisy_fid in obj['noisy_fids']:\n",
    "            data.append({'cnots': totalCNOTs(obj['circ'].circuit), 'noisy_fid': noisy_fid})\n",
    "\n",
    "        # display(obj['circ'].toQiskitCircuit().draw(output='mpl', fold=0))\n",
    "    fig = plt.figure()\n",
    "    ax = fig.add_subplot()\n",
    "    plt.ylim(0,0.7)\n",
    "    df = pd.DataFrame(data)\n",
    "    df.boxplot(by='cnots', showmeans=1, ax=ax)\n",
    "    fig.suptitle(f'noisy simulation of LRSP: {name}')"
   ]
  },
  {
   "cell_type": "code",
   "execution_count": null,
   "metadata": {},
   "outputs": [],
   "source": [
    "\n",
    "plt.scatter(*zip(*data))\n",
    "plt.ylim(0,1)\n",
    "plt.show()"
   ]
  }
 ],
 "metadata": {
  "kernelspec": {
   "display_name": "Python 3.8.12 ('QISKIT-ENV')",
   "language": "python",
   "name": "python3"
  },
  "language_info": {
   "codemirror_mode": {
    "name": "ipython",
    "version": 3
   },
   "file_extension": ".py",
   "mimetype": "text/x-python",
   "name": "python",
   "nbconvert_exporter": "python",
   "pygments_lexer": "ipython3",
   "version": "3.8.12"
  },
  "orig_nbformat": 4,
  "vscode": {
   "interpreter": {
    "hash": "ff43d14d68f606e3bb6b414de8a2a591d9b5640113deeb434892abd55cca28ff"
   }
  }
 },
 "nbformat": 4,
 "nbformat_minor": 2
}
