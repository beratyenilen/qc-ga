{
 "cells": [
  {
   "cell_type": "code",
   "execution_count": 2,
   "metadata": {},
   "outputs": [],
   "source": [
    "import pickle\n",
    "import os\n",
    "from tools import *\n",
    "from candidate import Candidate\n",
    "from numpy import *\n",
    "from matplotlib import pyplot as plt\n",
    "import pandas as pd\n",
    "from deap import *\n",
    "from deap.tools.emo import sortNondominated\n",
    "from qiskit import *\n",
    "from qiskit.quantum_info import state_fidelity\n",
    "#from main import LRSP_circs\n",
    "\n",
    "fitnessWeights = (-1.0, -0.5)\n",
    "creator.create(\"FitnessMin\", base.Fitness, weights=fitnessWeights)\n",
    "creator.create(\"Individual\", Candidate, fitness=creator.FitnessMin)\n",
    "\n",
    "def load_files_by_name(basedir):\n",
    "    loaded = {}\n",
    "    for name in  next(os.walk(basedir))[2]:\n",
    "        with open(os.path.join(basedir, name), 'rb') as file:\n",
    "            loaded[name] = pickle.load(file)\n",
    "    return loaded\n",
    "basedir = 'states/5_qubits'\n",
    "states = load_files_by_name(basedir)"
   ]
  },
  {
   "cell_type": "code",
   "execution_count": 3,
   "metadata": {},
   "outputs": [],
   "source": [
    "states_with_pop = {}\n",
    "for name, state in states.items():\n",
    "    try:\n",
    "        with open(f'performance_data/5QB/400POP/500-30000GEN-{name}.pop', 'rb') as f:\n",
    "            states_with_pop[name] = {'state': state, 'pop': pickle.load(f)}\n",
    "    except:\n",
    "        pass"
   ]
  },
  {
   "cell_type": "code",
   "execution_count": null,
   "metadata": {},
   "outputs": [],
   "source": [
    "'''print(1-pop[19].fitness.values[0])\n",
    "qc = pop[19].toQiskitCircuit()\n",
    "display(qc.draw(output='mpl'))\n",
    "\n",
    "\n",
    "\n",
    "fit = 1-pop[1].fitness.values[0]\n",
    "\n",
    "# backend = AerSimulator(method='statevector')\n",
    "backend = Aer.get_backend('statevector_simulator')\n",
    "result_state1 = backend.run(qc).result().get_statevector()\n",
    "print(state_fidelity(state_vector, result_state1))'''"
   ]
  },
  {
   "cell_type": "code",
   "execution_count": 4,
   "metadata": {},
   "outputs": [],
   "source": [
    "from threading import Thread\n",
    "\n",
    "def run_init_lrsp_circs(data):\n",
    "    for name, state in data:\n",
    "        circs = LRSP_circs(state, initialize_toolbox(state))\n",
    "        ranks = sortNondominated(circs, len(circs), first_front_only=True)\n",
    "        front = ranks[0]\n",
    "        # states_with_pop['lrsp_front'] = front\n",
    "        f = open('5QB-LRSP-fronts/'+name, 'wb')\n",
    "        pickle.dump(front, f)\n",
    "        f.close()\n",
    "        print(f'finished {name}')\n",
    "\n",
    "def multithread_chunks(data, chunks, run):\n",
    "    treds = []\n",
    "    for i in range(chunks):\n",
    "        chunk = list(data)[i::chunks]\n",
    "        print(len(chunk))\n",
    "        t = Thread(target=run, args=[chunk])\n",
    "        t.start()\n",
    "        treds.append(t)\n",
    "\n",
    "    for t in treds:\n",
    "        t.join()"
   ]
  },
  {
   "cell_type": "code",
   "execution_count": 4,
   "metadata": {},
   "outputs": [],
   "source": [
    "def uniqBy(l, f):\n",
    "    uniq_so_far = []\n",
    "    uniq_so_far_mapped = []\n",
    "    for c in l:\n",
    "        d = f(c)\n",
    "        if not d in uniq_so_far_mapped:\n",
    "            uniq_so_far_mapped.append(d)\n",
    "            uniq_so_far.append(c)\n",
    "    return uniq_so_far\n",
    "\n",
    "lrsp_circs = load_files_by_name('5QB-LRSP-fronts')\n",
    "\n",
    "lrsp_circs_uniq = {name: uniqBy(circs, lambda c: c.circuit) for name, circs in lrsp_circs.items()}\n",
    "\n"
   ]
  },
  {
   "cell_type": "code",
   "execution_count": 12,
   "metadata": {},
   "outputs": [
    {
     "name": "stdout",
     "output_type": "stream",
     "text": [
      "finished an individual\n",
      "finished an individual\n",
      "finished an individual\n",
      "finished an individual\n",
      "finished an individual\n",
      "finished an individual\n",
      "finished an individual\n",
      "finished an individual\n",
      "finished an individual\n",
      "finished an individual\n",
      "finished an individual\n",
      "finished an individual\n",
      "finished an individual\n",
      "finished an individual\n",
      "finished an individual\n",
      "finished an individual\n",
      "finished an individual\n",
      "finished an individual\n",
      "finished an individual\n",
      "finished an individual\n",
      "finished an individual\n",
      "finished an individual\n",
      "finished an individual\n",
      "finished an individual\n",
      "finished an individual\n",
      "finished an individual\n",
      "finished an individual\n",
      "finished an individual\n",
      "finished an individual\n",
      "finished an individual\n",
      "finished an individual\n",
      "finished an individual\n",
      "finished an individual\n",
      "finished an individual\n",
      "finished an individual\n",
      "finished an individual\n",
      "finished an individual\n",
      "finished an individual\n",
      "finished an individual\n",
      "finished an individual\n",
      "finished an individual\n",
      "finished an individual\n",
      "finished an individual\n",
      "finished an individual\n",
      "finished an individual\n",
      "finished an individual\n",
      "finished an individual\n",
      "finished an individual\n",
      "[{'noisy_fids': [0.46193283032563803], 'cnots': 5}, {'noisy_fids': [0.47049338549336395], 'cnots': 20}, {'noisy_fids': [0.3024416841264209], 'cnots': 0}, {'noisy_fids': [0.302441684126421], 'cnots': 0}, {'noisy_fids': [0.49880786656091414], 'cnots': 16}, {'noisy_fids': [0.48256052684868556], 'cnots': 8}, {'noisy_fids': [0.5597715458035353], 'cnots': 11}, {'noisy_fids': [0.5726145479780009], 'cnots': 9}, {'noisy_fids': [0.528977442207198], 'cnots': 4}, {'noisy_fids': [0.41847806071214433], 'cnots': 30}, {'noisy_fids': [0.43523232349626184], 'cnots': 13}, {'noisy_fids': [0.4451100137387999], 'cnots': 2}, {'noisy_fids': [0.34331344572900485], 'cnots': 0}, {'noisy_fids': [0.5119851516806829], 'cnots': 23}, {'noisy_fids': [0.4726147523569796], 'cnots': 22}, {'noisy_fids': [0.4935674572941675], 'cnots': 24}, {'noisy_fids': [0.46265056037176305], 'cnots': 5}, {'noisy_fids': [0.5318090289315054], 'cnots': 14}, {'noisy_fids': [0.4914149574347838], 'cnots': 26}, {'noisy_fids': [0.13619213721596496], 'cnots': 0}, {'noisy_fids': [0.5131925424976252], 'cnots': 2}, {'noisy_fids': [0.47475581982964155], 'cnots': 8}, {'noisy_fids': [0.3635329909075829], 'cnots': 1}, {'noisy_fids': [0.4242313442622625], 'cnots': 26}, {'noisy_fids': [0.43664837746934276], 'cnots': 13}, {'noisy_fids': [0.4343748802283523], 'cnots': 14}, {'noisy_fids': [0.6216338231392906], 'cnots': 9}, {'noisy_fids': [0.4858688652345956], 'cnots': 25}, {'noisy_fids': [0.5179142178515695], 'cnots': 3}, {'noisy_fids': [0.4827468079493851], 'cnots': 2}, {'noisy_fids': [0.49481012313284733], 'cnots': 5}, {'noisy_fids': [0.4612849304467528], 'cnots': 7}, {'noisy_fids': [0.3972289795244016], 'cnots': 22}, {'noisy_fids': [0.3834347652926514], 'cnots': 22}, {'noisy_fids': [0.4548252138850001], 'cnots': 22}, {'noisy_fids': [0.5035439685574884], 'cnots': 14}, {'noisy_fids': [0.4451120276226887], 'cnots': 2}, {'noisy_fids': [0.3717406742802192], 'cnots': 25}, {'noisy_fids': [0.4102108020033341], 'cnots': 1}, {'noisy_fids': [0.5144008818295472], 'cnots': 24}, {'noisy_fids': [0.0036442397948945725], 'cnots': 0}, {'noisy_fids': [0.4856104282496184], 'cnots': 5}, {'noisy_fids': [0.06699395361650444], 'cnots': 0}, {'noisy_fids': [0.0669946852716539], 'cnots': 0}, {'noisy_fids': [0.08374635055901075], 'cnots': 0}, {'noisy_fids': [0.4365462419949617], 'cnots': 25}, {'noisy_fids': [0.30278338634173174], 'cnots': 0}, {'noisy_fids': [0.36620164084899787], 'cnots': 30}]\n",
      "finished 5QB_state100\n"
     ]
    }
   ],
   "source": [
    "from qiskit.providers.aer import QasmSimulator\n",
    "\n",
    "backend = AerSimulator(method='density_matrix', noise_model=noise_model)\n",
    "backend = Aer.get_backend('qasm_simulator')\n",
    "backend = QasmSimulator(method='density_matrix',noise_model=noise_model)\n",
    "\n",
    "def totalCNOTs(circ):\n",
    "    cnots = 0\n",
    "    for gate in circ:\n",
    "        if (gate[1]==CNOT): cnots+=1\n",
    "    return cnots\n",
    "\n",
    "assert states.keys() == lrsp_circs_uniq.keys()\n",
    "\n",
    "def noisy_simulation_density_matrix(circ):\n",
    "    circ.save_density_matrix(label='density_matrix')\n",
    "    #result = backend.run(circ).result()\n",
    "    result = execute(circ, backend,\n",
    "                    coupling_map=connectivity,\n",
    "                  noise_model=noise_model).result()\n",
    "    return result.data()['density_matrix']\n",
    "\n",
    "def run_ga_nondominated_noisy_fids(data):\n",
    "    for name, obj in data:\n",
    "        data = []\n",
    "        state = obj['state']\n",
    "        pop = sortNondominated(obj['pop'], len(obj['pop']), first_front_only=True)[0]\n",
    "        pop = uniqBy(pop, lambda c: c.circuit)\n",
    "        for ind in pop:\n",
    "            ind_data = {'noisy_fids': []}\n",
    "            permutation = ind.getPermutationMatrix()\n",
    "            permutation = np.linalg.inv(permutation)\n",
    "            cnots = totalCNOTs(ind.circuit)\n",
    "            for _ in range(100): # find the best circuit from noisy results\n",
    "                circ = ind.toQiskitCircuit()\n",
    "                circ.measure_all()\n",
    "                circ = transpile(circ,fake_machine,optimization_level=0)\n",
    "                permutation2 = getPermutation(circ)\n",
    "                perm_circ = Permutation(5, permutation2) # Creating a circuit for qubit mapping\n",
    "                perm_unitary = Operator(perm_circ) # Matrix for the previous circuit\n",
    "                density_matrix_noisy = noisy_simulation_density_matrix(circ)\n",
    "                fid = state_fidelity(perm_unitary @ permutation @ state._data, density_matrix_noisy)\n",
    "                ind_data['noisy_fids'].append(fid)\n",
    "            ind_data['cnots'] = cnots\n",
    "            data.append(ind_data)\n",
    "            print(f'finished an individual')\n",
    "            \n",
    "        f = open('5QB-GA-nondominated-noisy-fids/'+name, 'wb')\n",
    "        pickle.dump(data, f)\n",
    "        f.close()\n",
    "        print(f'finished {name}')  \n",
    "\n",
    "\n",
    "# multithread_chunks(states_with_pop.items(), 4, run_ga_nondominated_noisy_fids)\n",
    "run_ga_nondominated_noisy_fids(states_with_pop.items())"
   ]
  },
  {
   "cell_type": "code",
   "execution_count": 195,
   "metadata": {},
   "outputs": [
    {
     "name": "stdout",
     "output_type": "stream",
     "text": [
      "[{'noisy_fids': [0.4879411650189644], 'cnots': 5}, {'noisy_fids': [0.4675001118431573], 'cnots': 20}, {'noisy_fids': [0.3027833863417313], 'cnots': 0}, {'noisy_fids': [0.3027833863417313], 'cnots': 0}, {'noisy_fids': [0.46221755212716287], 'cnots': 16}, {'noisy_fids': [0.4842014247242685], 'cnots': 8}, {'noisy_fids': [0.5594685243114866], 'cnots': 11}, {'noisy_fids': [0.5479258103652624], 'cnots': 9}, {'noisy_fids': [0.531214231543304], 'cnots': 4}, {'noisy_fids': [0.470878742558259], 'cnots': 30}, {'noisy_fids': [0.4892234888444488], 'cnots': 13}, {'noisy_fids': [0.4463560107831207], 'cnots': 2}, {'noisy_fids': [0.34352755137734997], 'cnots': 0}, {'noisy_fids': [0.5006035296092037], 'cnots': 23}, {'noisy_fids': [0.4894745788290195], 'cnots': 22}, {'noisy_fids': [0.378748966331091], 'cnots': 24}, {'noisy_fids': [0.46207505219101175], 'cnots': 5}, {'noisy_fids': [0.4691348777400126], 'cnots': 14}, {'noisy_fids': [0.5190655195882794], 'cnots': 26}, {'noisy_fids': [0.13619213721596485], 'cnots': 0}, {'noisy_fids': [0.515454895212192], 'cnots': 2}, {'noisy_fids': [0.4855162754316817], 'cnots': 8}, {'noisy_fids': [0.36398862160962303], 'cnots': 1}, {'noisy_fids': [0.47281368893033887], 'cnots': 26}, {'noisy_fids': [0.4774971951822867], 'cnots': 13}, {'noisy_fids': [0.41249647919471144], 'cnots': 14}, {'noisy_fids': [0.6284667345974584], 'cnots': 9}, {'noisy_fids': [0.473277599946506], 'cnots': 25}, {'noisy_fids': [0.5207760120744483], 'cnots': 3}, {'noisy_fids': [0.48464119502725433], 'cnots': 2}, {'noisy_fids': [0.4923989229653548], 'cnots': 5}, {'noisy_fids': [0.44550306094452274], 'cnots': 7}, {'noisy_fids': [0.37348877114193896], 'cnots': 22}, {'noisy_fids': [0.46993355397638753], 'cnots': 22}, {'noisy_fids': [0.4267756844702201], 'cnots': 22}, {'noisy_fids': [0.5162996158559721], 'cnots': 14}, {'noisy_fids': [0.44635802894691906], 'cnots': 2}, {'noisy_fids': [0.4326254624899004], 'cnots': 25}, {'noisy_fids': [0.4112932532610475], 'cnots': 1}, {'noisy_fids': [0.5349133874994831], 'cnots': 24}, {'noisy_fids': [0.0036442397948945725], 'cnots': 0}, {'noisy_fids': [0.4644306452511379], 'cnots': 5}, {'noisy_fids': [0.06699395361650444], 'cnots': 0}, {'noisy_fids': [0.0669946852716539], 'cnots': 0}, {'noisy_fids': [0.08374635055901075], 'cnots': 0}, {'noisy_fids': [0.4867153981622509], 'cnots': 25}, {'noisy_fids': [0.3027833863417313], 'cnots': 0}, {'noisy_fids': [0.48954897260454433], 'cnots': 30}]\n"
     ]
    }
   ],
   "source": [
    "with open('5QB-GA-nondominated-noisy-fids/'+'5QB_state100', 'rb') as f:\n",
    "    print(pickle.load(f))\n"
   ]
  },
  {
   "cell_type": "code",
   "execution_count": null,
   "metadata": {},
   "outputs": [],
   "source": [
    "for name, state in states.items():\n",
    "    circs = lrsp_circs_uniq[name]\n",
    "\n",
    "    data = []\n",
    "    for ind in circs:\n",
    "        ind_data = {'circ': ind, 'noisy_fids': []}\n",
    "        for _ in range(100): # find the best circuit from noisy results\n",
    "            permutation = ind.getPermutationMatrix()\n",
    "            permutation = np.linalg.inv(permutation)\n",
    "            cnots = totalCNOTs(ind.circuit)\n",
    "            circ = ind.toQiskitCircuit()\n",
    "            circ.measure_all()\n",
    "            circ = transpile(circ,fake_machine,optimization_level=0)\n",
    "            permutation2 = getPermutation(circ)\n",
    "            perm_circ = Permutation(5, permutation2) # Creating a circuit for qubit mapping\n",
    "            perm_unitary = Operator(perm_circ) # Matrix for the previous circuit\n",
    "            density_matrix_noisy = noisy_simulation_density_matrix(circ)\n",
    "            fid = state_fidelity(perm_unitary @ permutation @ state._data, density_matrix_noisy)\n",
    "            ind_data['noisy_fids'].append(fid)\n",
    "        data.append(ind_data)\n",
    "    \n",
    "    #f = open('5QB-LRSP-noisy-fids/'+name, 'wb')\n",
    "    #pickle.dump(data, f)\n",
    "    #f.close()\n",
    "    print(f'finished {name}')\n"
   ]
  },
  {
   "cell_type": "code",
   "execution_count": 5,
   "metadata": {},
   "outputs": [],
   "source": [
    "lrsp_noisy_fids = load_files_by_name('5QB-LRSP-noisy-fids')\n",
    "ga_nondominated_noisy_fids = load_files_by_name('5QB-GA-nondominated-noisy-fids')"
   ]
  },
  {
   "cell_type": "code",
   "execution_count": 7,
   "metadata": {},
   "outputs": [
    {
     "name": "stdout",
     "output_type": "stream",
     "text": [
      "[{'noisy_fids': [0.047103175980738404, 0.049752774347398415, 0.04861423808466937, 0.049752774347398415, 0.04860480979686434, 0.04860480979686434, 0.047103175980738404, 0.0493017327656454, 0.04795568501033058, 0.0493017327656454], 'cnots': 5}, {'noisy_fids': [0.048101608666765314, 0.04932146709247243, 0.050383654143156806, 0.04779464382076259, 0.05101961871696411, 0.04838351950763159, 0.0486515753795739, 0.05122684662062364, 0.0464994833444232, 0.0521450312132337], 'cnots': 20}, {'noisy_fids': [0.06216668384489181, 0.06216668384489181, 0.06216668384489181, 0.06216668384489181, 0.06216668384489181, 0.06216668384489181, 0.06216668384489181, 0.06216668384489181, 0.06216668384489181, 0.06216668384489181], 'cnots': 0}, {'noisy_fids': [0.06216668384489181, 0.06216668384489181, 0.06216668384489181, 0.06216668384489181, 0.06216668384489181, 0.06216668384489181, 0.06216668384489181, 0.06216668384489181, 0.06216668384489181, 0.06216668384489181], 'cnots': 0}, {'noisy_fids': [0.04754445970467461, 0.04977946593563905, 0.04758885382968013, 0.04865801138828861, 0.050920829399141485, 0.04945951924342262, 0.047115765594331116, 0.04846740368446005, 0.04821798298720716, 0.04846740368446005], 'cnots': 16}, {'noisy_fids': [0.07326952026950194, 0.07419544948530746, 0.06942982594299466, 0.07504520597962289, 0.06642752344305028, 0.06882604752755116, 0.06789329025282131, 0.0686922530443107, 0.06814799524208796, 0.06825919167215959], 'cnots': 8}, {'noisy_fids': [0.11941697273074214, 0.11949847597494445, 0.12042883831421221, 0.11654737313135481, 0.11826314721583206, 0.11995968637757565, 0.11557983900675937, 0.11971488542160083, 0.1214173422152766, 0.12243274228812881], 'cnots': 11}, {'noisy_fids': [0.11779436357464027, 0.10879408425552713, 0.11748874412348803, 0.10974388237609253, 0.11593463417752112, 0.11823736156536752, 0.11039467986167982, 0.10974388237609253, 0.10979394772174669, 0.10679678888689012], 'cnots': 9}, {'noisy_fids': [0.11245770334768612, 0.11245770334768612, 0.11245770334768612, 0.11245770334768612, 0.11245770334768612, 0.11245770334768612, 0.11245770334768612, 0.11245770334768612, 0.11245770334768612, 0.11245770334768612], 'cnots': 4}, {'noisy_fids': [0.06730653049005976, 0.06805898134467576, 0.06652943957378565, 0.06937965579118034, 0.06944540400935009, 0.06653094623396974, 0.06978536445107741, 0.07063446076163764, 0.06719076982925207, 0.06942312480961921], 'cnots': 30}, {'noisy_fids': [0.062450424890888825, 0.06353929719538132, 0.06072127950254837, 0.06072127950254837, 0.06072127950254837, 0.06353929719538132, 0.062450424890888825, 0.061316916165164034, 0.05762997859918801, 0.058265342035080936], 'cnots': 13}, {'noisy_fids': [0.052891955825839526, 0.052891955825839526, 0.052891955825839526, 0.052891955825839526, 0.052891955825839526, 0.052891955825839526, 0.052891955825839526, 0.052891955825839526, 0.052891955825839526, 0.052891955825839526], 'cnots': 2}, {'noisy_fids': [0.09414673430955639, 0.09414673430955639, 0.09414673430955639, 0.09414673430955639, 0.09414673430955639, 0.09414673430955639, 0.09414673430955639, 0.09414673430955639, 0.09414673430955639, 0.09414673430955639], 'cnots': 0}, {'noisy_fids': [0.0776039832594505, 0.07341869867274037, 0.0680012205646591, 0.07721729953284973, 0.06789810490132724, 0.07624364013011616, 0.07114744143011738, 0.0692000762090133, 0.07301968895771258, 0.07667274996042407], 'cnots': 23}, {'noisy_fids': [0.07218766267505047, 0.07399919425073855, 0.07930838140021942, 0.0750049466595078, 0.07466237258277604, 0.06451051557534182, 0.07119028365728763, 0.0770278069509157, 0.07800300080095979, 0.07531267962550042], 'cnots': 22}, {'noisy_fids': [0.07287722561722831, 0.07162352837507645, 0.07019795406289786, 0.06851114039530332, 0.07490859979925084, 0.0699459460742907, 0.07478227794142975, 0.06859446890598632, 0.07678526426628805, 0.07313136749098653], 'cnots': 24}, {'noisy_fids': [0.04974776299220075, 0.04917193202815437, 0.04992347621674745, 0.05141983913704613, 0.05074548972089066, 0.04831769578233672, 0.05141983913704613, 0.05015217491183323, 0.04831769578233672, 0.04992347621674745], 'cnots': 5}, {'noisy_fids': [0.05278754882703087, 0.049744889828697944, 0.05193282173812836, 0.05172938378670825, 0.05193282173812836, 0.05187123761092907, 0.05206038734048006, 0.0501923642327155, 0.05278754882703087, 0.05193282173812836], 'cnots': 14}, {'noisy_fids': [0.07084849304151503, 0.06225799488865619, 0.06986842147005885, 0.074510101244382, 0.07248474528591994, 0.07391342404472492, 0.07566528938351447, 0.07471551483490767, 0.0752292152127977, 0.07190798647122403], 'cnots': 26}, {'noisy_fids': [0.025017659143316648, 0.025017659143316648, 0.025017659143316648, 0.025017659143316648, 0.025017659143316648, 0.025017659143316648, 0.025017659143316648, 0.025017659143316648, 0.025017659143316648, 0.025017659143316648], 'cnots': 0}, {'noisy_fids': [0.10021630217172459, 0.10021630217172459, 0.10021630217172459, 0.10021630217172459, 0.10021630217172459, 0.10021630217172459, 0.10021630217172459, 0.10021630217172459, 0.10021630217172459, 0.10021630217172459], 'cnots': 2}, {'noisy_fids': [0.061611569025237796, 0.06282281110274818, 0.062150580534207474, 0.061711385323909976, 0.06510419436396442, 0.06443997992420242, 0.07063184346435625, 0.06518478737789529, 0.062150580534207474, 0.06518478737789529], 'cnots': 8}, {'noisy_fids': [0.06848538312848851, 0.06848538312848851, 0.06848538312848851, 0.06848538312848851, 0.06848538312848851, 0.06848538312848851, 0.06848538312848851, 0.06848538312848851, 0.06848538312848851, 0.06848538312848851], 'cnots': 1}, {'noisy_fids': [0.08404291572065185, 0.08595240049112163, 0.08524569899382667, 0.08914811629594033, 0.07377783351300184, 0.08954245490406006, 0.07328480808149584, 0.08886918972273108, 0.07915329631540911, 0.08937543321396868], 'cnots': 26}, {'noisy_fids': [0.06245042489088884, 0.05762997859918802, 0.06262327855153234, 0.06131691616516404, 0.06072127950254838, 0.05565862395086776, 0.05762997859918802, 0.05654354059640777, 0.06142823332619873, 0.061955973920380526], 'cnots': 13}, {'noisy_fids': [0.05658992123938249, 0.05658992123938249, 0.057768218745813275, 0.05861378767156755, 0.05748385483815914, 0.05658992123938249, 0.05861378767156755, 0.05614624771712336, 0.055935349389633404, 0.057768218745813275], 'cnots': 14}, {'noisy_fids': [0.11524179419832196, 0.11948122748398476, 0.12067507102731229, 0.11793059217860188, 0.12067507102731229, 0.11786438366207332, 0.11746656819312312, 0.11793059217860188, 0.11948122748398476, 0.11793059217860188], 'cnots': 9}, {'noisy_fids': [0.07869510612060773, 0.07891732923683979, 0.08087176647264324, 0.08113998688660003, 0.08095324369300863, 0.0834552512761802, 0.07849045602174362, 0.08276821946532523, 0.07841104233546307, 0.08424482045436443], 'cnots': 25}, {'noisy_fids': [0.09328642724180719, 0.09328642724180719, 0.09328642724180719, 0.09328642724180719, 0.09328642724180719, 0.09328642724180719, 0.09328642724180719, 0.09328642724180719, 0.09328642724180719, 0.09328642724180719], 'cnots': 3}, {'noisy_fids': [0.10193124167056039, 0.10193124167056039, 0.10193124167056039, 0.10193124167056039, 0.10193124167056039, 0.10193124167056039, 0.10193124167056039, 0.10193124167056039, 0.10193124167056039, 0.10193124167056039], 'cnots': 2}, {'noisy_fids': [0.0475146837962277, 0.049286401568459384, 0.0475146837962277, 0.0475146837962277, 0.0475146837962277, 0.0475146837962277, 0.049286401568459384, 0.0475146837962277, 0.049286401568459384, 0.049286401568459384], 'cnots': 5}, {'noisy_fids': [0.06301897828800715, 0.06235677426969963, 0.06394688674829244, 0.06480139601614619, 0.061061179321871314, 0.06229454191377798, 0.06401975603703575, 0.06414214156862945, 0.06340600821263834, 0.0626136262104632], 'cnots': 7}, {'noisy_fids': [0.04727093423626871, 0.0460462013001119, 0.04874138315050611, 0.04753033107930462, 0.04743344347600223, 0.049419087014865, 0.04655750953539939, 0.04727464229751505, 0.04774820427276212, 0.04785161562656441], 'cnots': 22}, {'noisy_fids': [0.047913537069104006, 0.04692680201027237, 0.04946288446205878, 0.04784522272942987, 0.04927052507432331, 0.04886639116461261, 0.04593549087049034, 0.04796922788614979, 0.04936229980458724, 0.04966482439996665], 'cnots': 22}, {'noisy_fids': [0.050594552939874915, 0.047489639700761706, 0.04899643185856363, 0.04847693901209865, 0.04655750953539939, 0.04707963516631215, 0.04841023361854011, 0.04903842286013268, 0.04920171047174787, 0.04770057118992037], 'cnots': 22}, {'noisy_fids': [0.05320732904916488, 0.053605335832561274, 0.05273732267507014, 0.05319102090252174, 0.05042369255998634, 0.05059743671045178, 0.05333652480775802, 0.05382215686107061, 0.0541650701282989, 0.053605335832561274], 'cnots': 14}, {'noisy_fids': [0.05288441627726526, 0.05288441627726526, 0.05288441627726526, 0.05288441627726526, 0.05288441627726526, 0.05288441627726526, 0.05288441627726526, 0.05288441627726526, 0.05288441627726526, 0.05288441627726526], 'cnots': 2}, {'noisy_fids': [0.0660854651552217, 0.06853371798912093, 0.07127267409257795, 0.07213615262865442, 0.06490200262903814, 0.06983392209567515, 0.07416571738954278, 0.07010238228543411, 0.06507669840151786, 0.06951196248732627], 'cnots': 25}, {'noisy_fids': [0.050634304932805775, 0.050634304932805775, 0.050634304932805775, 0.050634304932805775, 0.050634304932805775, 0.050634304932805775, 0.050634304932805775, 0.050634304932805775, 0.050634304932805775, 0.050634304932805775], 'cnots': 1}, {'noisy_fids': [0.07676183815282253, 0.0659798791999462, 0.07881465564377532, 0.0704856405082225, 0.07556220871484895, 0.06845391968036775, 0.07555820569720485, 0.07669616190685445, 0.07457584370835618, 0.07889893026884093], 'cnots': 24}, {'noisy_fids': [0.005996846398299905, 0.005996846398299905, 0.005996846398299905, 0.005996846398299905, 0.005996846398299905, 0.005996846398299905, 0.005996846398299905, 0.005996846398299905, 0.005996846398299905, 0.005996846398299905], 'cnots': 0}, {'noisy_fids': [0.05141983913704613, 0.050471052482929435, 0.04831769578233672, 0.05074548972089066, 0.05015217491183323, 0.05015217491183323, 0.050471052482929435, 0.04992347621674745, 0.04974776299220075, 0.04974776299220075], 'cnots': 5}, {'noisy_fids': [0.007447062610225076, 0.007447062610225076, 0.007447062610225076, 0.007447062610225076, 0.007447062610225076, 0.007447062610225076, 0.007447062610225076, 0.007447062610225076, 0.007447062610225076, 0.007447062610225076], 'cnots': 0}, {'noisy_fids': [0.007447079359442952, 0.007447079359442952, 0.007447079359442952, 0.007447079359442952, 0.007447079359442952, 0.007447079359442952, 0.007447079359442952, 0.007447079359442952, 0.007447079359442952, 0.007447079359442952], 'cnots': 0}, {'noisy_fids': [0.018793587472359884, 0.018793587472359884, 0.018793587472359884, 0.018793587472359884, 0.018793587472359884, 0.018793587472359884, 0.018793587472359884, 0.018793587472359884, 0.018793587472359884, 0.018793587472359884], 'cnots': 0}, {'noisy_fids': [0.07814363510132881, 0.07646649430130117, 0.0804608736133272, 0.07391860076989748, 0.07085767518449121, 0.08169874514062872, 0.0736786586549034, 0.08056027542426814, 0.07538762348192828, 0.07800096209250493], 'cnots': 25}, {'noisy_fids': [0.062166683844891824, 0.062166683844891824, 0.062166683844891824, 0.062166683844891824, 0.062166683844891824, 0.062166683844891824, 0.062166683844891824, 0.062166683844891824, 0.062166683844891824, 0.062166683844891824], 'cnots': 0}, {'noisy_fids': [0.06958232928533209, 0.06956564494965217, 0.07106696360212363, 0.060284176015571456, 0.06694908042506346, 0.06546122821796738, 0.06512873942286314, 0.07104744494342524, 0.06800331744088235, 0.06839722244054522], 'cnots': 30}]\n"
     ]
    },
    {
     "data": {
      "image/png": "[encoded data removed]",
      "text/plain": [
       "<Figure size 432x288 with 1 Axes>"
      ]
     },
     "metadata": {
      "needs_background": "light"
     },
     "output_type": "display_data"
    }
   ],
   "source": [
    "print(ga_nondominated_noisy_fids['5QB_state100'])\n",
    "\n",
    "for name, results in list(ga_nondominated_noisy_fids.items())[2:3]:\n",
    "    data = []\n",
    "    for obj in results:\n",
    "        for noisy_fid in obj['noisy_fids']:\n",
    "            data.append({'cnots': obj['cnots'], 'noisy_fid': noisy_fid})\n",
    "\n",
    "        # display(obj['circ'].toQiskitCircuit().draw(output='mpl', fold=0))\n",
    "    fig = plt.figure()\n",
    "    ax = fig.add_subplot()\n",
    "    plt.ylim(0,0.7)\n",
    "    df = pd.DataFrame(data)\n",
    "    df.boxplot(by='cnots', showmeans=1, ax=ax)\n",
    "    fig.suptitle(f'noisy simulation of LRSP: {name}')"
   ]
  },
  {
   "cell_type": "code",
   "execution_count": null,
   "metadata": {},
   "outputs": [],
   "source": [
    "\n",
    "plt.scatter(*zip(*data))\n",
    "plt.ylim(0,1)\n",
    "plt.show()"
   ]
  }
 ],
 "metadata": {
  "kernelspec": {
   "display_name": "Python 3.8.12 ('QISKIT-ENV')",
   "language": "python",
   "name": "python3"
  },
  "language_info": {
   "codemirror_mode": {
    "name": "ipython",
    "version": 3
   },
   "file_extension": ".py",
   "mimetype": "text/x-python",
   "name": "python",
   "nbconvert_exporter": "python",
   "pygments_lexer": "ipython3",
   "version": "3.8.12"
  },
  "orig_nbformat": 4,
  "vscode": {
   "interpreter": {
    "hash": "ff43d14d68f606e3bb6b414de8a2a591d9b5640113deeb434892abd55cca28ff"
   }
  }
 },
 "nbformat": 4,
 "nbformat_minor": 2
}
