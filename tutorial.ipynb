{
 "metadata": {
  "language_info": {
   "codemirror_mode": {
    "name": "ipython",
    "version": 3
   },
   "file_extension": ".py",
   "mimetype": "text/x-python",
   "name": "python",
   "nbconvert_exporter": "python",
   "pygments_lexer": "ipython3",
   "version": "3.9.1-final"
  },
  "orig_nbformat": 2,
  "kernelspec": {
   "name": "python3",
   "display_name": "Python 3.9.1 64-bit ('3.9.1': pyenv)",
   "metadata": {
    "interpreter": {
     "hash": "8dc747dab05f73967feddfc4e516558904f5b3a55da01e4416fd136b91f30626"
    }
   }
  }
 },
 "nbformat": 4,
 "nbformat_minor": 2,
 "cells": [
  {
   "source": [
    "# How to use the package\n",
    "\n",
    "Using the genetic algorithms package is fairly easy. The user only has to specify 2 functions:\n",
    "\n",
    "    1. desiredState() which returns an array representing the full wavefunction of the desired state.\n",
    "    2. evuluateInd(individual) which takes in an individual and returns a tuple representing the fitness of the individual, for example, (error, length).\n",
    "\n",
    "Now let's start by importing the necessary modules."
   ],
   "cell_type": "markdown",
   "metadata": {}
  },
  {
   "cell_type": "code",
   "execution_count": null,
   "metadata": {},
   "outputs": [],
   "source": [
    "import projectq\n",
    "from projectq.ops import H, X, Y, Z, T, Tdagger, S, Sdagger, CNOT, Measure, All, Rx, Ry, Rz, SqrtX\n",
    "import numpy as np\n",
    "import copy\n",
    "from constants import *\n",
    "from deap import creator, base, tools\n",
    "from candidate import Candidate\n",
    "from constants import *\n",
    "from evolution import crossoverInd, mutateInd, selectAndEvolve, geneticAlgorithm"
   ]
  },
  {
   "source": [
    "Now that we have all the modules we need, we can define the desired state function. Let's say we are using 2 qubits, so the wavefunction has 4 "
   ],
   "cell_type": "markdown",
   "metadata": {}
  },
  {
   "cell_type": "code",
   "execution_count": null,
   "metadata": {},
   "outputs": [],
   "source": [
    "def desiredState():\n",
    "    wf = [0.3,0.5,0.66,0]\n",
    "    return wf"
   ]
  },
  {
   "source": [
    "Let's say we are trying to minimize the error and the circuit length at the same time. So in that case our evaluateInd function will be something like:"
   ],
   "cell_type": "markdown",
   "metadata": {}
  },
  {
   "cell_type": "code",
   "execution_count": null,
   "metadata": {},
   "outputs": [],
   "source": [
    "def evaluateInd(individual):\n",
    "  '''\n",
    "  This function should take an individual,possibly an instance of Candidate class, \n",
    "  and return a tuple where each element of the tuple is an objective.\n",
    "  An example objective would be (error,circuitLen) where:\n",
    "    error = |1 - < createdState | wantedState > \n",
    "    circuitLen = len(individual.circuit) / MAX_CIRCUIT_LENGTH\n",
    "    MAX_CIRCUIT_LENGTH is the expected circuit length for the problem. \n",
    "  '''\n",
    "  wanted = desiredState()\n",
    "  got = individual.simulateCircuit()\n",
    "  error = 1 - np.absolute(np.vdot(wanted,got))\n",
    "  if len(individual.circuit)>0 and len(individual.circuit)<MAX_CIRCUIT_LENGTH:\n",
    "    return (error, len(individual.circuit)/MAX_CIRCUIT_LENGTH)\n",
    "  else:\n",
    "    # If this is the case, then the circuit is longer that what we want.\n",
    "    return (error,1.0)"
   ]
  },
  {
   "source": [
    "Finally, we define our main function where we define number of qubits, allowed gates, etc. "
   ],
   "cell_type": "markdown",
   "metadata": {}
  },
  {
   "cell_type": "code",
   "execution_count": null,
   "metadata": {},
   "outputs": [],
   "source": [
    "'''\n",
    "You should initialize:\n",
    "numberOfQubits : number of qubits to be used for the problem\n",
    "allowedGates   : allowed set of gates. Default is [Rz,SX,X,CX]\n",
    "problemName    : output of the problem will be stored at ./outputs/problemName.txt\n",
    "problemDescription : A small header describing the problem.\n",
    "fitnessWeights : A tuple describing the weight of each objective. A negative\n",
    "    weight means that objective should be minimized, a positive weight means\n",
    "    that objective should be maximized. For example, if you want to represent \n",
    "    your weights as (error,circuitLen) and want to minimize both with equal \n",
    "    weight you can just define fitnessWeights = (-1.0,-1.0). Only the relative \n",
    "    values of the weights have meaning. BEWARE that they are multiplied and summed \n",
    "    up while calculating the total fitness, so you might want to normalize them.\n",
    "'''\n",
    "# Initialize your variables\n",
    "numberOfQubits = 2\n",
    "# Let's try to use the basis gate of IBM Quantum Computers\n",
    "allowedGates = [Rx,Ry,Rz,X,CNOT] \n",
    "problemName = \"kindaarbitrary\"\n",
    "problemDescription = \"Kind of Arbitrary State initalization for:\\n\"\n",
    "#problemDescription += str(c0)+\"|00>\"+str(c1)+\"|01>\"+str(c2)+\"|10>\"+str(c3)+\"|11>\\n\"\n",
    "problemDescription += \"numberOfQubits=\"+str(numberOfQubits)+\"\\n\"\n",
    "problemDescription += \"allowedGates=\"+str(allowedGates)+\"\\n\"\n",
    "# trying to minimize error and length !\n",
    "fitnessWeights = (-1.0, -1.0)\n",
    "\n",
    "# Create the type of the individual\n",
    "creator.create(\"FitnessMin\", base.Fitness, weights=fitnessWeights)\n",
    "creator.create(\"Individual\", Candidate, fitness=creator.FitnessMin)\n",
    "# Initialize your toolbox and population\n",
    "toolbox = base.Toolbox()\n",
    "toolbox.register(\"individual\", creator.Individual,numberOfQubits,allowedGates)\n",
    "toolbox.register(\"population\", tools.initRepeat, list, toolbox.individual)\n",
    "# Register the necessary functions to the toolbox\n",
    "toolbox.register(\"mate\", crossoverInd, toolbox=toolbox)\n",
    "toolbox.register(\"mutate\", mutateInd)\n",
    "toolbox.register(\"select\", tools.selNSGA2)\n",
    "toolbox.register(\"selectAndEvolve\", selectAndEvolve)\n",
    "toolbox.register(\"evaluate\", evaluateInd)\n",
    "\n",
    "# Get it running\n",
    "NGEN = 100       # For how many generations should the algorithm run ? \n",
    "POPSIZE = 500  # How many individuals should be in the population ? \n",
    "verbose = False # Do you want functions to print out information. \n",
    "                # Note that they will print out a lot of things. \n",
    "\n",
    "# Initialize a random population\n",
    "pop = toolbox.population(n=POPSIZE)\n",
    "# Run the genetic algorithm\n",
    "pop = geneticAlgorithm(pop, toolbox, NGEN, problemName, problemDescription, epsilon)\n"
   ]
  },
  {
   "cell_type": "code",
   "execution_count": null,
   "metadata": {},
   "outputs": [],
   "source": [
    "pop.sort(key=lambda x: x.fitness.values[0])"
   ]
  },
  {
   "cell_type": "code",
   "execution_count": null,
   "metadata": {},
   "outputs": [],
   "source": [
    "pop[0].fitness.values"
   ]
  },
  {
   "source": [
    "# 3 Qubit Example\n",
    "\n",
    "Now, let us do the same thing for a 3-qubit case. Let's say we are trying to initialize the state:  \n",
    "\n",
    "$$\\Psi = [0.1,\\ 0.4,\\ 0.3,\\ 0.3,\\ 0.6,\\ 0.4,\\ 0.3,\\ 0.2]^T$$\n",
    "\n",
    "We allow gates the Rx,Ry,Rz,CNOT gates and the qubit connectivity is linear. That is, 0 <-> 1 <-> 2."
   ],
   "cell_type": "markdown",
   "metadata": {}
  },
  {
   "cell_type": "code",
   "execution_count": null,
   "metadata": {},
   "outputs": [],
   "source": [
    "def desiredState():\n",
    "  wf = [0.1,0.4,0.3,0.3,0.6,0.4,0.3,0.2]\n",
    "  return wf "
   ]
  },
  {
   "cell_type": "code",
   "execution_count": null,
   "metadata": {},
   "outputs": [],
   "source": [
    "def evaluateInd(individual):\n",
    "  '''\n",
    "  This function should take an individual,possibly an instance of Candidate class, \n",
    "  and return a tuple where each element of the tuple is an objective.\n",
    "  An example objective would be (error,circuitLen) where:\n",
    "    error = |1 - < createdState | wantedState > \n",
    "    circuitLen = len(individual.circuit) / MAX_CIRCUIT_LENGTH\n",
    "    MAX_CIRCUIT_LENGTH is the expected circuit length for the problem. \n",
    "  '''\n",
    "  wanted = desiredState()\n",
    "  got = individual.simulateCircuit()\n",
    "  error = 1 - np.absolute(np.vdot(wanted,got))\n",
    "  if len(individual.circuit)>0 and len(individual.circuit)<MAX_CIRCUIT_LENGTH:\n",
    "    return (error, len(individual.circuit)/MAX_CIRCUIT_LENGTH)\n",
    "  else:\n",
    "    # If this is the case, then we shorten the circuit.\n",
    "    individual.circuit = individual.circuit[:MAX_CIRCUIT_LENGTH]\n",
    "    return (error,1.0)"
   ]
  },
  {
   "cell_type": "code",
   "execution_count": null,
   "metadata": {},
   "outputs": [],
   "source": [
    "'''\n",
    "You should initialize:\n",
    "numberOfQubits : number of qubits to be used for the problem\n",
    "allowedGates   : allowed set of gates. Default is [Rz,SX,X,CX]\n",
    "problemName    : output of the problem will be stored at ./outputs/problemName.txt\n",
    "problemDescription : A small header describing the problem.\n",
    "fitnessWeights : A tuple describing the weight of each objective. A negative\n",
    "    weight means that objective should be minimized, a positive weight means\n",
    "    that objective should be maximized. For example, if you want to represent \n",
    "    your weights as (error,circuitLen) and want to minimize both with equal \n",
    "    weight you can just define fitnessWeights = (-1.0,-1.0). Only the relative \n",
    "    values of the weights have meaning. BEWARE that they are multiplied and summed \n",
    "    up while calculating the total fitness, so you might want to normalize them.\n",
    "'''\n",
    "# Initialize your variables\n",
    "numberOfQubits = 3\n",
    "# Let's try to use the basis gate of IBM Quantum Computers\n",
    "allowedGates = [Ry,Rx,Rz,CNOT] \n",
    "connectivity = [(0,1),(1,0),(1,2),(2,1)]\n",
    "problemName = \"kindaarbitrary3qubit\"\n",
    "problemDescription = \"Kind of Arbitrary State initalization for:\\n\"\n",
    "problemDescription += \"numberOfQubits=\"+str(numberOfQubits)+\"\\n\"\n",
    "problemDescription += \"allowedGates=\"+str(allowedGates)+\"\\n\"\n",
    "# trying to minimize error and length !\n",
    "fitnessWeights = (-1.0, -1.0)\n",
    "\n",
    "# Create the type of the individual\n",
    "creator.create(\"FitnessMin\", base.Fitness, weights=fitnessWeights)\n",
    "creator.create(\"Individual\", Candidate, fitness=creator.FitnessMin)\n",
    "# Initialize your toolbox and population\n",
    "toolbox = base.Toolbox()\n",
    "toolbox.register(\"individual\", creator.Individual,numberOfQubits,allowedGates,connectivity)\n",
    "toolbox.register(\"population\", tools.initRepeat, list, toolbox.individual)\n",
    "# Register the necessary functions to the toolbox\n",
    "toolbox.register(\"mate\", crossoverInd, toolbox=toolbox)\n",
    "toolbox.register(\"mutate\", mutateInd)\n",
    "toolbox.register(\"select\", tools.selNSGA2)\n",
    "toolbox.register(\"selectAndEvolve\", selectAndEvolve)\n",
    "toolbox.register(\"evaluate\", evaluateInd)\n",
    "\n",
    "# Get it running\n",
    "NGEN = 100       # For how many generations should the algorithm run ? \n",
    "POPSIZE = 500  # How many individuals should be in the population ? \n",
    "verbose = False # Do you want functions to print out information. \n",
    "                # Note that they will print out a lot of things. \n",
    "\n",
    "# Initialize a random population\n",
    "pop = toolbox.population(n=POPSIZE)\n",
    "# Run the genetic algorithm\n",
    "pop = geneticAlgorithm(pop, toolbox, NGEN, problemName, problemDescription, epsilon)\n"
   ]
  },
  {
   "cell_type": "code",
   "execution_count": null,
   "metadata": {},
   "outputs": [],
   "source": [
    "pop.sort(key=lambda x: x.fitness.values[0])"
   ]
  },
  {
   "cell_type": "code",
   "execution_count": null,
   "metadata": {},
   "outputs": [],
   "source": [
    "pop[0].drawCircuit()\n"
   ]
  },
  {
   "cell_type": "code",
   "execution_count": null,
   "metadata": {},
   "outputs": [],
   "source": [
    "pop[0].fitness.values"
   ]
  },
  {
   "source": [
    "# Features to be added\n",
    "Although the package works as it is, there are some important features that needs to be added:\n",
    "\n",
    "    - Add Swap Gate\n",
    "    - Add SqrtX Gate to the package\n",
    "    - Evaluate the cost of a circuit\n",
    "    - Two-level Mutation\n",
    "    - Combining Gates\n",
    "    - Qubit Mapping Feature"
   ],
   "cell_type": "markdown",
   "metadata": {}
  },
  {
   "cell_type": "code",
   "execution_count": null,
   "metadata": {},
   "outputs": [],
   "source": []
  },
  {
   "cell_type": "code",
   "execution_count": null,
   "metadata": {},
   "outputs": [],
   "source": []
  }
 ]
}