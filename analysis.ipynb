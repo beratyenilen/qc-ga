{
 "cells": [
  {
   "cell_type": "code",
   "execution_count": null,
   "metadata": {},
   "outputs": [],
   "source": [
    "import pickle\n",
    "import os\n",
    "from tools import *\n",
    "from candidate import Candidate\n",
    "from numpy import *\n",
    "from matplotlib import pyplot as plt\n",
    "import pandas as pd\n",
    "from deap import *\n",
    "from deap.tools.emo import sortNondominated\n",
    "from qiskit import *\n",
    "from qiskit.quantum_info import state_fidelity\n",
    "#from main import LRSP_circs\n",
    "\n",
    "fitnessWeights = (-1.0, -0.5)\n",
    "creator.create(\"FitnessMin\", base.Fitness, weights=fitnessWeights)\n",
    "creator.create(\"Individual\", Candidate, fitness=creator.FitnessMin)\n",
    "\n",
    "def load_files_by_name(basedir):\n",
    "    loaded = {}\n",
    "    for name in  next(os.walk(basedir))[2]:\n",
    "        with open(os.path.join(basedir, name), 'rb') as file:\n",
    "            loaded[name] = pickle.load(file)\n",
    "    return loaded\n",
    "basedir = 'states/5_qubits'\n",
    "states = load_files_by_name(basedir)"
   ]
  },
  {
   "cell_type": "code",
   "execution_count": null,
   "metadata": {},
   "outputs": [],
   "source": [
    "states_with_pop = {}\n",
    "for name, state in states.items():\n",
    "    try:\n",
    "        with open(f'performance_data/5QB/400POP/500-30000GEN-{name}.pop', 'rb') as f:\n",
    "            states_with_pop[name] = {'state': state, 'pop': pickle.load(f)}\n",
    "    except:\n",
    "        pass\n"
   ]
  },
  {
   "cell_type": "code",
   "execution_count": null,
   "metadata": {},
   "outputs": [],
   "source": [
    "'''print(1-pop[19].fitness.values[0])\n",
    "qc = pop[19].toQiskitCircuit()\n",
    "display(qc.draw(output='mpl'))\n",
    "\n",
    "\n",
    "\n",
    "fit = 1-pop[1].fitness.values[0]\n",
    "\n",
    "# backend = AerSimulator(method='statevector')\n",
    "backend = Aer.get_backend('statevector_simulator')\n",
    "result_state1 = backend.run(qc).result().get_statevector()\n",
    "print(state_fidelity(state_vector, result_state1))'''"
   ]
  },
  {
   "cell_type": "code",
   "execution_count": null,
   "metadata": {},
   "outputs": [],
   "source": [
    "from threading import Thread\n",
    "\n",
    "def run_init_lrsp_circs(data):\n",
    "    for name, state in data:\n",
    "        circs = LRSP_circs(state, initialize_toolbox(state))\n",
    "        ranks = sortNondominated(circs, len(circs), first_front_only=True)\n",
    "        front = ranks[0]\n",
    "        # states_with_pop['lrsp_front'] = front\n",
    "        f = open('5QB-LRSP-fronts/'+name, 'wb')\n",
    "        pickle.dump(front, f)\n",
    "        f.close()\n",
    "        print(f'finished {name}')\n",
    "\n",
    "def multithread_chunks(data, chunks, run):\n",
    "    treds = []\n",
    "    for i in range(chunks):\n",
    "        chunk = list(data)[i::chunks]\n",
    "        print(len(chunk))\n",
    "        t = Thread(target=run, args=[chunk])\n",
    "        t.start()\n",
    "        treds.append(t)\n",
    "\n",
    "    for t in treds:\n",
    "        t.join()"
   ]
  },
  {
   "cell_type": "code",
   "execution_count": null,
   "metadata": {},
   "outputs": [],
   "source": [
    "def uniqBy(l, f):\n",
    "    uniq_so_far = []\n",
    "    uniq_so_far_mapped = []\n",
    "    for c in l:\n",
    "        d = f(c)\n",
    "        if not d in uniq_so_far_mapped:\n",
    "            uniq_so_far_mapped.append(d)\n",
    "            uniq_so_far.append(c)\n",
    "    return uniq_so_far\n",
    "\n",
    "lrsp_circs = load_files_by_name('5QB-LRSP-fronts')\n",
    "\n",
    "lrsp_circs_uniq = {name: uniqBy(circs, lambda c: c.circuit) for name, circs in lrsp_circs.items()}\n",
    "\n"
   ]
  },
  {
   "cell_type": "code",
   "execution_count": null,
   "metadata": {},
   "outputs": [],
   "source": [
    "from qiskit.providers.aer import QasmSimulator\n",
    "\n",
    "backend = AerSimulator(method='density_matrix', noise_model=noise_model)\n",
    "backend = Aer.get_backend('qasm_simulator')\n",
    "backend = QasmSimulator(method='density_matrix',noise_model=noise_model)\n",
    "\n",
    "def totalCNOTs(circ):\n",
    "    cnots = 0\n",
    "    for gate in circ:\n",
    "        if (gate[1]==CNOT): cnots+=1\n",
    "    return cnots\n",
    "\n",
    "assert states.keys() == lrsp_circs_uniq.keys()\n",
    "\n",
    "\n",
    "def noisy_simulation_density_matrix(circ):\n",
    "    circ.save_density_matrix(label='density_matrix')\n",
    "    #result = backend.run(circ).result()\n",
    "    result = execute(circ, backend,\n",
    "                    coupling_map=connectivity,\n",
    "                    noise_model=noise_model).result()\n",
    "    return result.data()['density_matrix']\n",
    "\n",
    "def run_ga_nondominated_noisy_fids(data):\n",
    "    for name, obj in data:\n",
    "        data = []\n",
    "        state = obj['state']\n",
    "        pop = sortNondominated(obj['pop'], len(obj['pop']), first_front_only=True)[0]\n",
    "        pop = uniqBy(pop, lambda c: c.circuit)\n",
    "        for ind in pop:\n",
    "            ind_data = {'noisy_fids': []}\n",
    "            permutation = ind.getPermutationMatrix()\n",
    "            permutation = np.linalg.inv(permutation)\n",
    "            cnots = totalCNOTs(ind.circuit)\n",
    "            for _ in range(100): # find the best circuit from noisy results\n",
    "                circ = ind.toQiskitCircuit()\n",
    "                circ.measure_all()\n",
    "                circ = transpile(circ,fake_machine,optimization_level=0)\n",
    "                permutation2 = getPermutation(circ)\n",
    "                perm_circ = Permutation(5, permutation2) # Creating a circuit for qubit mapping\n",
    "                perm_unitary = Operator(perm_circ) # Matrix for the previous circuit\n",
    "                density_matrix_noisy = noisy_simulation_density_matrix(circ)\n",
    "                fid = state_fidelity(perm_unitary @ permutation @ state._data, density_matrix_noisy)\n",
    "                ind_data['noisy_fids'].append(fid)\n",
    "            ind_data['cnots'] = cnots\n",
    "            data.append(ind_data)\n",
    "            print(f'finished an individual')\n",
    "            \n",
    "        f = open('5QB-GA-nondominated-noisy-fids/'+name, 'wb')\n",
    "        #pickle.dump(data, f)\n",
    "        f.close()\n",
    "        print(f'finished {name}')  \n",
    "\n",
    "\n",
    "# multithread_chunks(states_with_pop.items(), 4, run_ga_nondominated_noisy_fids)\n",
    "run_ga_nondominated_noisy_fids(states_with_pop.items())"
   ]
  },
  {
   "cell_type": "code",
   "execution_count": 60,
   "metadata": {},
   "outputs": [
    {
     "name": "stdout",
     "output_type": "stream",
     "text": [
      "5QB-GA-nondominated-noisy-fids_3\n"
     ]
    }
   ],
   "source": [
    "import re\n",
    "os.path.exists('5QB-GA-nondominated-noisy-fids/')\n",
    "dirname, index = re.match('^(5QB[A-Za-z\\-]+)_?(\\d+?)?$', '5QB-GA-nondominated-noisy-fids_2').groups()\n",
    "print(f'{dirname}_{int(index or 0) + 1}')"
   ]
  },
  {
   "cell_type": "code",
   "execution_count": null,
   "metadata": {},
   "outputs": [],
   "source": [
    "with open('5QB-GA-nondominated-noisy-fids/'+'5QB_state100', 'rb') as f:\n",
    "    print(pickle.load(f))\n"
   ]
  },
  {
   "cell_type": "code",
   "execution_count": 20,
   "metadata": {},
   "outputs": [
    {
     "ename": "NameError",
     "evalue": "name 'lrsp_circs_uniq' is not defined",
     "output_type": "error",
     "traceback": [
      "\u001b[1;31m---------------------------------------------------------------------------\u001b[0m",
      "\u001b[1;31mNameError\u001b[0m                                 Traceback (most recent call last)",
      "\u001b[1;32m~\\AppData\\Local\\Temp/ipykernel_15752/428408015.py\u001b[0m in \u001b[0;36m<module>\u001b[1;34m\u001b[0m\n\u001b[0;32m      1\u001b[0m \u001b[1;32mfor\u001b[0m \u001b[0mname\u001b[0m\u001b[1;33m,\u001b[0m \u001b[0mstate\u001b[0m \u001b[1;32min\u001b[0m \u001b[0mstates\u001b[0m\u001b[1;33m.\u001b[0m\u001b[0mitems\u001b[0m\u001b[1;33m(\u001b[0m\u001b[1;33m)\u001b[0m\u001b[1;33m:\u001b[0m\u001b[1;33m\u001b[0m\u001b[1;33m\u001b[0m\u001b[0m\n\u001b[1;32m----> 2\u001b[1;33m     \u001b[0mcircs\u001b[0m \u001b[1;33m=\u001b[0m \u001b[0mlrsp_circs_uniq\u001b[0m\u001b[1;33m[\u001b[0m\u001b[0mname\u001b[0m\u001b[1;33m]\u001b[0m\u001b[1;33m\u001b[0m\u001b[1;33m\u001b[0m\u001b[0m\n\u001b[0m\u001b[0;32m      3\u001b[0m \u001b[1;33m\u001b[0m\u001b[0m\n\u001b[0;32m      4\u001b[0m     \u001b[0mdata\u001b[0m \u001b[1;33m=\u001b[0m \u001b[1;33m[\u001b[0m\u001b[1;33m]\u001b[0m\u001b[1;33m\u001b[0m\u001b[1;33m\u001b[0m\u001b[0m\n\u001b[0;32m      5\u001b[0m     \u001b[1;32mfor\u001b[0m \u001b[0mind\u001b[0m \u001b[1;32min\u001b[0m \u001b[0mcircs\u001b[0m\u001b[1;33m:\u001b[0m\u001b[1;33m\u001b[0m\u001b[1;33m\u001b[0m\u001b[0m\n",
      "\u001b[1;31mNameError\u001b[0m: name 'lrsp_circs_uniq' is not defined"
     ]
    }
   ],
   "source": [
    "for name, state in states.items():\n",
    "    circs = lrsp_circs_uniq[name]\n",
    "\n",
    "    data = []\n",
    "    for ind in circs:\n",
    "        ind_data = {'circ': ind, 'noisy_fids': []}\n",
    "        for _ in range(100): # find the best circuit from noisy results\n",
    "            permutation = ind.getPermutationMatrix()\n",
    "            permutation = np.linalg.inv(permutation)\n",
    "            cnots = totalCNOTs(ind.circuit)\n",
    "            circ = ind.toQiskitCircuit()\n",
    "            circ.measure_all()\n",
    "            circ = transpile(circ,fake_machine,optimization_level=0)\n",
    "            permutation2 = getPermutation(circ)\n",
    "            perm_circ = Permutation(5, permutation2) # Creating a circuit for qubit mapping\n",
    "            perm_unitary = Operator(perm_circ) # Matrix for the previous circuit\n",
    "            density_matrix_noisy = noisy_simulation_density_matrix(circ)\n",
    "            fid = state_fidelity(perm_unitary @ permutation @ state._data, density_matrix_noisy)\n",
    "            ind_data['noisy_fids'].append(fid)\n",
    "        data.append(ind_data)\n",
    "    \n",
    "    #f = open('5QB-LRSP-noisy-fids/'+name, 'wb')\n",
    "    #pickle.dump(data, f)\n",
    "    #f.close()\n",
    "    print(f'finished {name}')\n"
   ]
  },
  {
   "cell_type": "code",
   "execution_count": 9,
   "metadata": {},
   "outputs": [],
   "source": [
    "lrsp_noisy_fids = load_files_by_name('5QB-LRSP-noisy-fids')\n",
    "ga_nondominated_noisy_fids = load_files_by_name('5QB-GA-nondominated-noisy-fids')"
   ]
  },
  {
   "cell_type": "code",
   "execution_count": 10,
   "metadata": {},
   "outputs": [
    {
     "name": "stdout",
     "output_type": "stream",
     "text": [
      "[(0, 1), (0, 2), (0, 3), (0, 4), (1, 2), (1, 3), (1, 4), (2, 3), (2, 4), (3, 4)]\n"
     ]
    }
   ],
   "source": [
    "import itertools\n",
    "n = 5\n",
    "qubits = range(n)\n",
    "\n",
    "def avg_ent(psi):\n",
    "    return sum([qi.entropy(qi.partial_trace(psi, [q])) / 5 for q in qubits])\n",
    "\n",
    "def avg_2qb_ent(psi):\n",
    "    return sum([qi.entropy(qi.partial_trace(psi, sub)) / 10 for sub in list(itertools.combinations(qubits, 2))])\n",
    "\n",
    "def first_qubit_entanglement_entropy(psi):\n",
    "    rho = qi.partial_trace(psi, [4])\n",
    "    return qi.entropy(rho)\n",
    "\n",
    "print(list(itertools.combinations(qubits, 2)))\n",
    "\n",
    "\n",
    "states_with_avg_ent = {}\n",
    "states_with_avg_2qb_ent = {}\n",
    "for name, state in states.items():\n",
    "    states_with_avg_ent[name] = avg_ent(state)\n",
    "    states_with_avg_2qb_ent[name] = avg_2qb_ent(state)"
   ]
  },
  {
   "cell_type": "code",
   "execution_count": 11,
   "metadata": {},
   "outputs": [],
   "source": [
    "\"\"\" \n",
    "    This code block plots the maximum fidelities of LRSP and GA with noise for each state individually.\n",
    "    Variance in the results for a specific individual is due to different permutations that arise from \n",
    "    qiskit transpile function; the noise from cnots in different connections varies. Also, transpile \n",
    "    might change/add single qubit gates. \n",
    "\"\"\"\n",
    "\n",
    "import qiskit.quantum_info as qi\n",
    "\n",
    "analysis = {}\n",
    "\n",
    "for name, results in list(ga_nondominated_noisy_fids.items())[0:]:\n",
    "    df = pd.DataFrame(results)\n",
    "    df.noisy_fids = df.noisy_fids.apply(max)\n",
    "    ga_max_fids = df.groupby('cnots').apply(max)\n",
    "\n",
    "    data_lrsp = []\n",
    "    for obj in lrsp_noisy_fids[name]:\n",
    "        # ent = first_qubit_entanglement_entropy(states[name])\n",
    "        data_lrsp.append({'cnots': totalCNOTs(obj['circ'].circuit), 'noisy_fids': obj['noisy_fids']})\n",
    "\n",
    "    df = pd.DataFrame(data_lrsp)\n",
    "    df.noisy_fids = df.noisy_fids.apply(max)\n",
    "    lrsp_max_fids = df.groupby('cnots').apply(max)\n",
    "\n",
    "    analysis[name] = {'ga_max_fids': ga_max_fids, 'lrsp_max_fids': lrsp_max_fids}"
   ]
  },
  {
   "cell_type": "code",
   "execution_count": 19,
   "metadata": {},
   "outputs": [
    {
     "data": {
      "image/png": "[encoded data removed]",
      "text/plain": [
       "<Figure size 720x504 with 1 Axes>"
      ]
     },
     "metadata": {
      "needs_background": "light"
     },
     "output_type": "display_data"
    },
    {
     "name": "stdout",
     "output_type": "stream",
     "text": [
      "---5QB_state41\n"
     ]
    },
    {
     "data": {
      "image/png": "[encoded data removed]",
      "text/plain": [
       "<Figure size 720x504 with 1 Axes>"
      ]
     },
     "metadata": {
      "needs_background": "light"
     },
     "output_type": "display_data"
    },
    {
     "name": "stdout",
     "output_type": "stream",
     "text": [
      "---5QB_state41\n"
     ]
    },
    {
     "data": {
      "image/png": "[encoded data removed]",
      "text/plain": [
       "<Figure size 720x504 with 1 Axes>"
      ]
     },
     "metadata": {
      "needs_background": "light"
     },
     "output_type": "display_data"
    },
    {
     "name": "stdout",
     "output_type": "stream",
     "text": [
      "---5QB_state41\n"
     ]
    },
    {
     "data": {
      "image/png": "[encoded data removed]",
      "text/plain": [
       "<Figure size 720x504 with 1 Axes>"
      ]
     },
     "metadata": {
      "needs_background": "light"
     },
     "output_type": "display_data"
    }
   ],
   "source": [
    "plt.figure(figsize=(10,7))\n",
    "#plt.ylim(0,1.0)\n",
    "plt.title('fid from LRSP and GA')\n",
    "\n",
    "for name, avg_ent in states_with_avg_ent.items():\n",
    "    data = analysis[name]\n",
    "    ga_max_fids = data['ga_max_fids']\n",
    "    lrsp_max_fids = data['lrsp_max_fids']\n",
    "\n",
    "    ga_best_cnot = ga_max_fids.cnots[ga_max_fids.noisy_fids.eq(ga_max_fids.noisy_fids.max())].max()\n",
    "    lrsp_best_cnot = lrsp_max_fids.cnots[lrsp_max_fids.noisy_fids.eq(lrsp_max_fids.noisy_fids.max())].max()\n",
    "    plt.scatter(x=ga_best_cnot, y=ga_max_fids.noisy_fids.max(), color='red')\n",
    "    plt.scatter(x=lrsp_best_cnot, y=lrsp_max_fids.noisy_fids.max(), color='blue', marker='.')\n",
    "plt.ylim(0,1)\n",
    "plt.show()\n",
    "\n",
    "plt.figure(figsize=(10,7))\n",
    "plt.title('fid from LRSP and GA')\n",
    "for name, avg_ent in states_with_avg_ent.items():\n",
    "    data = analysis[name]\n",
    "    ga_max_fids = data['ga_max_fids']\n",
    "    lrsp_max_fids = data['lrsp_max_fids']\n",
    "    if (name=='5QB_state41'):\n",
    "        print('---'+name)\n",
    "        continue\n",
    "    plt.scatter(x=avg_ent, y=ga_max_fids.noisy_fids.max(), color='red')\n",
    "    plt.scatter(x=avg_ent, y=lrsp_max_fids.noisy_fids.max(), color='blue', marker='.')\n",
    "plt.ylim(0,1)\n",
    "plt.show()\n",
    "\n",
    "\n",
    "plt.figure(figsize=(10,7))\n",
    "plt.title('fid from LRSP and GA (average entropy of 2qb subspaces)')\n",
    "for name, avg_2qb_ent in states_with_avg_2qb_ent.items():\n",
    "    data = analysis[name]\n",
    "    ga_max_fids = data['ga_max_fids']\n",
    "    lrsp_max_fids = data['lrsp_max_fids']\n",
    "    if (name=='5QB_state41'):\n",
    "        print('---'+name)\n",
    "        continue\n",
    "\n",
    "    plt.scatter(x=avg_2qb_ent, y=ga_max_fids.noisy_fids.max(), color='red')\n",
    "    plt.scatter(x=avg_2qb_ent, y=lrsp_max_fids.noisy_fids.max(), color='blue', marker='.')\n",
    "plt.ylim(0,1)\n",
    "plt.show()\n",
    "\n",
    "plt.figure(figsize=(10,7))\n",
    "plt.title('absolute improvement in fid from LRSP to GA')\n",
    "for name, avg_ent in states_with_avg_ent.items():\n",
    "    data = analysis[name]\n",
    "    ga_max_fids = data['ga_max_fids']\n",
    "    lrsp_max_fids = data['lrsp_max_fids']\n",
    "    if (name=='5QB_state41'):\n",
    "        print('---'+name)\n",
    "        continue\n",
    "\n",
    "    plt.scatter(x=avg_ent, y=data['ga_max_fids'].noisy_fids.max() - data['lrsp_max_fids'].noisy_fids.max(), color='green', marker='.')\n"
   ]
  },
  {
   "cell_type": "code",
   "execution_count": null,
   "metadata": {},
   "outputs": [],
   "source": [
    "\n",
    "plt.scatter(*zip(*data))\n",
    "plt.ylim(0,1)\n",
    "plt.show()"
   ]
  }
 ],
 "metadata": {
  "kernelspec": {
   "display_name": "Python 3.8.12 ('QISKIT-ENV')",
   "language": "python",
   "name": "python3"
  },
  "language_info": {
   "codemirror_mode": {
    "name": "ipython",
    "version": 3
   },
   "file_extension": ".py",
   "mimetype": "text/x-python",
   "name": "python",
   "nbconvert_exporter": "python",
   "pygments_lexer": "ipython3",
   "version": "3.8.12"
  },
  "orig_nbformat": 4,
  "vscode": {
   "interpreter": {
    "hash": "ff43d14d68f606e3bb6b414de8a2a591d9b5640113deeb434892abd55cca28ff"
   }
  }
 },
 "nbformat": 4,
 "nbformat_minor": 2
}
